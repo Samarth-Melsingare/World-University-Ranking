{
 "cells": [
  {
   "cell_type": "code",
   "execution_count": 4,
   "id": "3ed804ce-402e-4896-b50e-4ebd684ae267",
   "metadata": {},
   "outputs": [],
   "source": [
    "import pandas as pd\n",
    "import openpyxl"
   ]
  },
  {
   "cell_type": "code",
   "execution_count": 5,
   "id": "a385e5b2-bcbd-4f0b-a807-7c2e57f01591",
   "metadata": {},
   "outputs": [
    {
     "name": "stdout",
     "output_type": "stream",
     "text": [
      "   world_rank                            institution         country  \\\n",
      "0           1                     Harvard University             USA   \n",
      "1           2  Massachusetts Institute of Technology             USA   \n",
      "2           3                    Stanford University             USA   \n",
      "3           4                University of Cambridge  United Kingdom   \n",
      "4           5     California Institute of Technology             USA   \n",
      "\n",
      "   national_rank  quality_of_education  alumni_employment  quality_of_faculty  \\\n",
      "0              1                     7                  9                   1   \n",
      "1              2                     9                 17                   3   \n",
      "2              3                    17                 11                   5   \n",
      "3              1                    10                 24                   4   \n",
      "4              4                     2                 29                   7   \n",
      "\n",
      "   publications  influence  citations  broad_impact  patents   score  year  \n",
      "0             1          1          1           NaN        5  100.00  2012  \n",
      "1            12          4          4           NaN        1   91.67  2012  \n",
      "2             4          2          2           NaN       15   89.50  2012  \n",
      "3            16         16         11           NaN       50   86.17  2012  \n",
      "4            37         22         22           NaN       18   85.21  2012  \n"
     ]
    }
   ],
   "source": [
    "data = pd.read_csv(r\"D:/Python/projects/World_University/New folder/WorldUniversity.csv\")\n",
    "\n",
    "print(data.head())  \n"
   ]
  },
  {
   "cell_type": "code",
   "execution_count": 3,
   "id": "30313051-3518-42c4-bfd3-2ea8aac0cd0a",
   "metadata": {},
   "outputs": [
    {
     "data": {
      "text/plain": [
       "Index(['world_rank', 'institution', 'country', 'national_rank',\n",
       "       'quality_of_education', 'alumni_employment', 'quality_of_faculty',\n",
       "       'publications', 'influence', 'citations', 'broad_impact', 'patents',\n",
       "       'score', 'year'],\n",
       "      dtype='object')"
      ]
     },
     "execution_count": 3,
     "metadata": {},
     "output_type": "execute_result"
    }
   ],
   "source": [
    "data.columns"
   ]
  },
  {
   "cell_type": "code",
   "execution_count": 3,
   "id": "0999527d-ca04-42c1-b8eb-341f86092a17",
   "metadata": {},
   "outputs": [
    {
     "ename": "NameError",
     "evalue": "name 'data' is not defined",
     "output_type": "error",
     "traceback": [
      "\u001b[1;31m---------------------------------------------------------------------------\u001b[0m",
      "\u001b[1;31mNameError\u001b[0m                                 Traceback (most recent call last)",
      "Cell \u001b[1;32mIn[3], line 1\u001b[0m\n\u001b[1;32m----> 1\u001b[0m data\u001b[38;5;241m.\u001b[39minfo()\n",
      "\u001b[1;31mNameError\u001b[0m: name 'data' is not defined"
     ]
    }
   ],
   "source": [
    "data.info()                 # checking for columns data and their datatypes"
   ]
  },
  {
   "cell_type": "code",
   "execution_count": 5,
   "id": "aba07b43-0a0e-4276-a3c4-93efd8398e80",
   "metadata": {},
   "outputs": [
    {
     "data": {
      "text/plain": [
       "np.int64(0)"
      ]
     },
     "execution_count": 5,
     "metadata": {},
     "output_type": "execute_result"
    }
   ],
   "source": [
    "data.duplicated().sum()"
   ]
  },
  {
   "cell_type": "code",
   "execution_count": 6,
   "id": "c8cb2ed4-a725-497d-9a69-4c17aa90ae5c",
   "metadata": {},
   "outputs": [
    {
     "data": {
      "text/plain": [
       "0       False\n",
       "1       False\n",
       "2       False\n",
       "3       False\n",
       "4       False\n",
       "        ...  \n",
       "2195    False\n",
       "2196    False\n",
       "2197    False\n",
       "2198    False\n",
       "2199    False\n",
       "Length: 2200, dtype: bool"
      ]
     },
     "execution_count": 6,
     "metadata": {},
     "output_type": "execute_result"
    }
   ],
   "source": [
    "data.duplicated(subset = ['world_rank', 'institution','national_rank','year'])"
   ]
  },
  {
   "cell_type": "code",
   "execution_count": 7,
   "id": "b33fea22-bd24-4d57-83ca-7f199832665b",
   "metadata": {},
   "outputs": [
    {
     "data": {
      "text/plain": [
       "np.int64(0)"
      ]
     },
     "execution_count": 7,
     "metadata": {},
     "output_type": "execute_result"
    }
   ],
   "source": [
    "data.duplicated(subset = ['world_rank', 'institution','national_rank','year']).sum()"
   ]
  },
  {
   "cell_type": "code",
   "execution_count": 12,
   "id": "2ddf876c-8fb6-4652-a76c-f5fa35545aab",
   "metadata": {},
   "outputs": [
    {
     "data": {
      "text/plain": [
       "world_rank                0\n",
       "institution               0\n",
       "country                   0\n",
       "national_rank             0\n",
       "quality_of_education      0\n",
       "alumni_employment         0\n",
       "quality_of_faculty        0\n",
       "publications              0\n",
       "influence                 0\n",
       "citations                 0\n",
       "broad_impact            200\n",
       "patents                   0\n",
       "score                     0\n",
       "year                      0\n",
       "dtype: int64"
      ]
     },
     "execution_count": 12,
     "metadata": {},
     "output_type": "execute_result"
    }
   ],
   "source": [
    "data.isnull().sum()         #checking for null values"
   ]
  },
  {
   "cell_type": "code",
   "execution_count": 13,
   "id": "f9d9810e-0932-4fa6-8f01-117a7a4a7e5a",
   "metadata": {},
   "outputs": [],
   "source": [
    "data.fillna(0,inplace = True)      #replacing null values with 0"
   ]
  },
  {
   "cell_type": "code",
   "execution_count": 14,
   "id": "d9cc9287-fa70-424d-b4bb-2b5366d3f5e0",
   "metadata": {},
   "outputs": [
    {
     "data": {
      "text/plain": [
       "world_rank              0\n",
       "institution             0\n",
       "country                 0\n",
       "national_rank           0\n",
       "quality_of_education    0\n",
       "alumni_employment       0\n",
       "quality_of_faculty      0\n",
       "publications            0\n",
       "influence               0\n",
       "citations               0\n",
       "broad_impact            0\n",
       "patents                 0\n",
       "score                   0\n",
       "year                    0\n",
       "dtype: int64"
      ]
     },
     "execution_count": 14,
     "metadata": {},
     "output_type": "execute_result"
    }
   ],
   "source": [
    "data.isnull().sum()                    # no more null values are present in data"
   ]
  },
  {
   "cell_type": "code",
   "execution_count": 15,
   "id": "7b2f0feb-91c5-4bde-b92b-6ce3dda41fb4",
   "metadata": {},
   "outputs": [
    {
     "data": {
      "text/plain": [
       "np.int64(0)"
      ]
     },
     "execution_count": 15,
     "metadata": {},
     "output_type": "execute_result"
    }
   ],
   "source": [
    "data['broad_impact'].isnull().sum()"
   ]
  },
  {
   "cell_type": "code",
   "execution_count": null,
   "id": "91143ffc-ea6f-4bc0-96ea-20283403924f",
   "metadata": {},
   "outputs": [],
   "source": [
    "# pip install pyodbc"
   ]
  },
  {
   "cell_type": "code",
   "execution_count": 6,
   "id": "1bbdbd4f-0752-42e5-8b3b-44856a5c10bf",
   "metadata": {},
   "outputs": [],
   "source": [
    "import pyodbc as odbc"
   ]
  },
  {
   "cell_type": "code",
   "execution_count": 7,
   "id": "9d0c2915-e8e8-49d6-a9be-b21490cf75f1",
   "metadata": {},
   "outputs": [],
   "source": [
    "import numpy as np \n",
    "import pandas as pd \n",
    "import sqlite3\n",
    "import matplotlib.pyplot as plt"
   ]
  },
  {
   "cell_type": "code",
   "execution_count": 8,
   "id": "052ed6cd-8f3b-4a73-a35d-0dd73cc84b89",
   "metadata": {},
   "outputs": [
    {
     "name": "stdout",
     "output_type": "stream",
     "text": [
      "['SQL Server', 'ODBC Driver 17 for SQL Server', 'SQL Server Native Client RDA 11.0', 'Microsoft Access Driver (*.mdb, *.accdb)', 'Microsoft Excel Driver (*.xls, *.xlsx, *.xlsm, *.xlsb)', 'Microsoft Access Text Driver (*.txt, *.csv)']\n"
     ]
    }
   ],
   "source": [
    "import pyodbc\n",
    "print(pyodbc.drivers())\n"
   ]
  },
  {
   "cell_type": "code",
   "execution_count": 9,
   "id": "b481fb1d-fe38-41b9-aa92-e30f07a4b127",
   "metadata": {},
   "outputs": [
    {
     "name": "stdout",
     "output_type": "stream",
     "text": [
      "<pyodbc.Connection object at 0x000001EB36F8A3F0>\n"
     ]
    }
   ],
   "source": [
    "Connection_string = (\n",
    "\n",
    "        r'DRIVER={ODBC Driver 17 for SQL Server};'\n",
    "        r'SERVER= SAMARTH\\SQLEXPRESS;'\n",
    "        r'DATABASE=master;'\n",
    "        r'Trusted_Connection=yes;'\n",
    "        \n",
    "\n",
    ")\n",
    "Conn = odbc.connect(Connection_string)\n",
    "print(Conn)\n"
   ]
  },
  {
   "cell_type": "code",
   "execution_count": 10,
   "id": "72a3c72f-3d40-4561-a9ea-4de09c04b045",
   "metadata": {},
   "outputs": [
    {
     "data": {
      "text/plain": [
       "pyodbc.Connection"
      ]
     },
     "execution_count": 10,
     "metadata": {},
     "output_type": "execute_result"
    }
   ],
   "source": [
    "type(Conn)"
   ]
  },
  {
   "cell_type": "code",
   "execution_count": 11,
   "id": "be4f4229-4474-43cb-9d6e-5d9a7681d696",
   "metadata": {},
   "outputs": [],
   "source": [
    "from sqlalchemy.engine import URL\n",
    "connection_url = URL.create(\"mssql+pyodbc\", query={\"odbc_connect\": Connection_string})\n",
    "\n",
    "from sqlalchemy import create_engine\n",
    "engine = create_engine(connection_url)\n"
   ]
  },
  {
   "cell_type": "code",
   "execution_count": 21,
   "id": "bcf3a88d-28d8-4c13-90ac-6e67f49a2c40",
   "metadata": {},
   "outputs": [
    {
     "name": "stdout",
     "output_type": "stream",
     "text": [
      "   world_rank                            institution         country  \\\n",
      "0           1                     Harvard University             USA   \n",
      "1           2  Massachusetts Institute of Technology             USA   \n",
      "2           3                    Stanford University             USA   \n",
      "3           4                University of Cambridge  United Kingdom   \n",
      "4           5     California Institute of Technology             USA   \n",
      "5           6                   Princeton University             USA   \n",
      "6           7                   University of Oxford  United Kingdom   \n",
      "7           8                        Yale University             USA   \n",
      "8           9                    Columbia University             USA   \n",
      "9          10              \"University of California       Berkeley\"   \n",
      "\n",
      "   national_rank  quality_of_education  alumni_employment  quality_of_faculty  \\\n",
      "0            1.0                     7                  9                   1   \n",
      "1            2.0                     9                 17                   3   \n",
      "2            3.0                    17                 11                   5   \n",
      "3            1.0                    10                 24                   4   \n",
      "4            4.0                     2                 29                   7   \n",
      "5            5.0                     8                 14                   2   \n",
      "6            2.0                    13                 28                   9   \n",
      "7            6.0                    14                 31                  12   \n",
      "8            7.0                    23                 21                  10   \n",
      "9            NaN                     8                 16                  52   \n",
      "\n",
      "   publications  influence  citations  broad_impact  patents  score  year  \n",
      "0             1          1          1           NaN      5.0    100  2012  \n",
      "1            12          4          4           NaN      1.0     92  2012  \n",
      "2             4          2          2           NaN     15.0     90  2012  \n",
      "3            16         16         11           NaN     50.0     86  2012  \n",
      "4            37         22         22           NaN     18.0     85  2012  \n",
      "5            53         33         26           NaN    101.0     82  2012  \n",
      "6            15         13         19           NaN     26.0     82  2012  \n",
      "7            14          6         15           NaN     66.0     79  2012  \n",
      "8            13         12         14           NaN      5.0     79  2012  \n",
      "9             6          6          5           3.0      NaN     16    79  \n"
     ]
    }
   ],
   "source": [
    "import sqlalchemy as sa\n",
    "with engine.begin() as conn:\n",
    "    df = pd.read_sql_query(sa.text(\"SELECT TOP 10 * FROM WorldUniversity\"), conn)\n",
    "    print(df)"
   ]
  },
  {
   "cell_type": "code",
   "execution_count": null,
   "id": "f5e74b3a-3b8e-49f4-9d1e-f947949538ac",
   "metadata": {},
   "outputs": [],
   "source": [
    "# Questions using SQL:\n",
    "# 1)\tRetrieve all columns for universities in the USA.\n",
    "with engine.begin() as conn:\n",
    "    df = pd.read_sql_query(sa.text(\"SELECT * FROM WorldUniversity\"), conn)\n",
    "    print(df)\n"
   ]
  },
  {
   "cell_type": "code",
   "execution_count": null,
   "id": "d16c360f-d9de-480d-bc47-b82960e8d7c4",
   "metadata": {},
   "outputs": [],
   "source": [
    "# 3)\tList universities in the United Kingdom with a score above 80 in 2013.\n",
    "with engine.begin() as conn:\n",
    "    df = pd.read_sql_query(sa.text(\"SELECT institution,country, score, year FROM WorldUniversity WHERE country = 'United Kingdom' AND year = 2013 AND score > 80;\"), conn)\n",
    "                                     \n",
    "print(df)"
   ]
  },
  {
   "cell_type": "code",
   "execution_count": 23,
   "id": "022d949a-ff39-4a94-9def-71e3aa59f49c",
   "metadata": {},
   "outputs": [
    {
     "name": "stdout",
     "output_type": "stream",
     "text": [
      "                                           country  Count\n",
      "0                                          Vienna\"      2\n",
      "1                             United Arab Emirates      2\n",
      "2                                        Maynooth\"      2\n",
      "3                                 University Park\"      4\n",
      "4                                           Uganda      2\n",
      "..                                             ...    ...\n",
      "98                                         Sydney\"      2\n",
      "99    The State University of New Jersey - Newark\"      2\n",
      "100                                    Santa Cruz\"      2\n",
      "101                                      Argentina      7\n",
      "102                                   Los Angeles\"      4\n",
      "\n",
      "[103 rows x 2 columns]\n"
     ]
    }
   ],
   "source": [
    "# 4)\tCount the number of universities in each country\n",
    "with engine.begin() as conn:\n",
    "    df = pd.read_sql_query(sa.text(\"SELECT country, COUNT(institution) as Count FROM WorldUniversity GROUP BY country;\"), conn)\n",
    "                                     \n",
    "print(df)"
   ]
  },
  {
   "cell_type": "code",
   "execution_count": 24,
   "id": "679972a9-6911-4824-b0e8-1bbfb52bd044",
   "metadata": {},
   "outputs": [
    {
     "name": "stdout",
     "output_type": "stream",
     "text": [
      "     country                                        institution    \n",
      "0      Italy  \"University of Eastern Piedmont Amedeo Avogadr...  45\n",
      "1    Finland                            Ã…bo Akademi University  45\n",
      "2     France                              Ã‰cole Centrale Paris  45\n",
      "3     France                 Ã‰cole normale supÃ©rieure - Paris  60\n",
      "4     France                 Ã‰cole normale supÃ©rieure de Lyon  45\n",
      "..       ...                                                ...  ..\n",
      "947   Taiwan                                 Yuan Ze University  44\n",
      "948    China                         Zhejiang Normal University  44\n",
      "949    China                                Zhejiang University  48\n",
      "950    China                  Zhejiang University of Technology  44\n",
      "951    China                               Zhengzhou University  44\n",
      "\n",
      "[952 rows x 3 columns]\n"
     ]
    }
   ],
   "source": [
    "# 5)\tCalculate the average score for universities in each country in 2014.\n",
    "with engine.begin() as conn:\n",
    "    df = pd.read_sql_query(sa.text(\"SELECT country, institution, AVG(score) FROM WorldUniversity WHERE year = 2014 GROUP BY country, institution;\"), conn)\n",
    "                                     \n",
    "print(df)"
   ]
  },
  {
   "cell_type": "code",
   "execution_count": 28,
   "id": "2044b787-31e3-45e2-a459-65b89ceab802",
   "metadata": {},
   "outputs": [
    {
     "name": "stdout",
     "output_type": "stream",
     "text": [
      "                          institution  quality_of_education\n",
      "0                 Columbia University                    23\n",
      "1                  Cornell University                    21\n",
      "2          University of Pennsylvania                    31\n",
      "3                 University of Tokyo                    32\n",
      "4            Johns Hopkins University                    34\n",
      "...                               ...                   ...\n",
      "2087        University of the Algarve                   367\n",
      "2088            Alexandria University                   236\n",
      "2089     Federal University of CearÃ¡                   367\n",
      "2090          University of A CoruÃ±a                   367\n",
      "2091  China Pharmaceutical University                   367\n",
      "\n",
      "[2092 rows x 2 columns]\n"
     ]
    }
   ],
   "source": [
    "# 6)\tFind universities with a quality_of_education score greater than 20.\n",
    "with engine.begin() as conn:\n",
    "    df = pd.read_sql_query(sa.text(\"SELECT institution, quality_of_education FROM WorldUniversity WHERE quality_of_education > 20;\"), conn)\n",
    "                                     \n",
    "print(df)"
   ]
  },
  {
   "cell_type": "code",
   "execution_count": null,
   "id": "46e81d1a-3a32-4eaf-87d0-fbf5d0c613d3",
   "metadata": {},
   "outputs": [],
   "source": [
    "# 7)\tRetrieve universities with a score between 70 and 80.\n",
    "with engine.begin() as conn:\n",
    "    df = pd.read_sql_query(sa.text(\"SELECT institution, score FROM WorldUniversity WHERE score BETWEEN 70 AND 80;\"), conn)\n",
    "                                     \n",
    "print(df)"
   ]
  },
  {
   "cell_type": "code",
   "execution_count": 1,
   "id": "f5f77b81-e456-47e8-abc7-81c2a93f20bb",
   "metadata": {},
   "outputs": [
    {
     "ename": "NameError",
     "evalue": "name 'engine' is not defined",
     "output_type": "error",
     "traceback": [
      "\u001b[1;31m---------------------------------------------------------------------------\u001b[0m",
      "\u001b[1;31mNameError\u001b[0m                                 Traceback (most recent call last)",
      "Cell \u001b[1;32mIn[1], line 2\u001b[0m\n\u001b[0;32m      1\u001b[0m \u001b[38;5;66;03m# 8)\tList the top 5 universities with the highest alumni employment scores in 2012.\u001b[39;00m\n\u001b[1;32m----> 2\u001b[0m \u001b[38;5;28;01mwith\u001b[39;00m engine\u001b[38;5;241m.\u001b[39mbegin() \u001b[38;5;28;01mas\u001b[39;00m conn:\n\u001b[0;32m      3\u001b[0m     df \u001b[38;5;241m=\u001b[39m pd\u001b[38;5;241m.\u001b[39mread_sql_query(sa\u001b[38;5;241m.\u001b[39mtext(\u001b[38;5;124m\"\u001b[39m\u001b[38;5;124mSELECT TOP 5 institution, alumni_employment FROM WorldUniversity WHERE year = 2012 ORDER BY alumni_employment DESC;\u001b[39m\u001b[38;5;124m\"\u001b[39m), conn)\n\u001b[0;32m      5\u001b[0m \u001b[38;5;28mprint\u001b[39m(df)\n",
      "\u001b[1;31mNameError\u001b[0m: name 'engine' is not defined"
     ]
    }
   ],
   "source": [
    "# 8)\tList the top 5 universities with the highest alumni employment scores in 2012.\n",
    "with engine.begin() as conn:\n",
    "    df = pd.read_sql_query(sa.text(\"SELECT TOP 5 institution, alumni_employment FROM WorldUniversity WHERE year = 2012 ORDER BY alumni_employment DESC;\"), conn)\n",
    "                                     \n",
    "print(df)"
   ]
  },
  {
   "cell_type": "code",
   "execution_count": null,
   "id": "dfe0d5ee-96c6-47f2-9ff7-96f7200fba7a",
   "metadata": {},
   "outputs": [],
   "source": [
    "# 9)\tFind the university with the highest quality_of_faculty in 2013.\n",
    "with engine.begin() as conn:\n",
    "    df = pd.read_sql_query(sa.text(\"SELECT institution, quality_of_faculty FROM WorldUniversity WHERE quality_of_faculty = (SELECT MAX(quality_of_faculty) FROM WorldUniversity WHERE year = 2013);\"), conn)\n",
    "                                     \n",
    "print(df)"
   ]
  },
  {
   "cell_type": "code",
   "execution_count": null,
   "id": "b9e35b5c-ed16-46a4-a9bb-7be8954a9094",
   "metadata": {},
   "outputs": [],
   "source": [
    "# 10)\tCount the number of universities that have a national_rank less than 5.\n",
    "with engine.begin() as conn:\n",
    "    df = pd.read_sql_query(sa.text(\"SELECT COUNT(institution) AS No_of_universities FROM WorldUniversity WHERE national_rank < 5;\"), conn)\n",
    "                                     \n",
    "print(df)"
   ]
  },
  {
   "cell_type": "code",
   "execution_count": null,
   "id": "8b2423cf-f010-4c8c-b6fd-feb6312e20dd",
   "metadata": {},
   "outputs": [],
   "source": [
    "# 11)\tRetrieve universities with a quality_of_education rank equal to 1.\n",
    "with engine.begin() as conn:\n",
    "    df = pd.read_sql_query(sa.text(\"SELECT institution, quality_of_education FROM WorldUniversity WHERE quality_of_education = 1;\"), conn)\n",
    "                                     \n",
    "print(df)"
   ]
  },
  {
   "cell_type": "code",
   "execution_count": null,
   "id": "8c20c58b-146b-48f5-a6f7-555d05d50f14",
   "metadata": {},
   "outputs": [],
   "source": [
    "# 12)\tList the top 10 universities with the highest citations in 2014.\n",
    "with engine.begin() as conn:\n",
    "    df = pd.read_sql_query(sa.text(\"SELECT TOP 10 institution, citations FROM WorldUniversity WHERE citations = (SELECT MAX(citations) FROM WorldUniversity WHERE year = 2014);\"), conn)\n",
    "                                     \n",
    "print(df)"
   ]
  },
  {
   "cell_type": "code",
   "execution_count": null,
   "id": "b7912a89-b64a-4103-8dc3-23420c2e8b90",
   "metadata": {},
   "outputs": [],
   "source": [
    "# 13)\tCalculate the average influence score for universities in the USA.\n",
    "with engine.begin() as conn:\n",
    "    df = pd.read_sql_query(sa.text(\"SELECT institution, AVG(influence) AS influence_score FROM WorldUniversity WHERE country = 'USA' GROUP BY institution;\"), conn)\n",
    "                                     \n",
    "print(df)"
   ]
  },
  {
   "cell_type": "code",
   "execution_count": null,
   "id": "02a8ed8f-5448-42a2-be95-fa3b77126aa7",
   "metadata": {},
   "outputs": [],
   "source": [
    "# 14)\tFind universities with a broad_impact rank less than or equal to 50.\n",
    "with engine.begin() as conn:\n",
    "    df = pd.read_sql_query(sa.text(\"SELECT institution, broad_impact AS rank FROM WorldUniversity WHERE broad_impact <= 50;\"), conn)\n",
    "                                     \n",
    "print(df)"
   ]
  },
  {
   "cell_type": "code",
   "execution_count": null,
   "id": "daddac89-dd3e-4336-b797-7e05538a59a7",
   "metadata": {},
   "outputs": [],
   "source": [
    "# 15)\tRetrieve universities in Japan with a score greater than 60 in 2012.\n",
    "with engine.begin() as conn:\n",
    "    df = pd.read_sql_query(sa.text(\"SELECT institution, country, score, year FROM WorldUniversity WHERE country = 'Japan' AND year = 2012 AND score > 60;\"), conn)\n",
    "                                     \n",
    "print(df)"
   ]
  },
  {
   "cell_type": "code",
   "execution_count": null,
   "id": "24ee0b83-edff-49c8-a3d6-a6b7d14512f1",
   "metadata": {},
   "outputs": [],
   "source": [
    "# 16)\tList the top 5 universities with the highest patents in 2013.\n",
    "with engine.begin() as conn:\n",
    "    df = pd.read_sql_query(sa.text(\"SELECT TOP 5 institution, patents FROM WorldUniversity WHERE year = 2013 ORDER BY patents DESC;\"), conn)\n",
    "                                     \n",
    "print(df)"
   ]
  },
  {
   "cell_type": "code",
   "execution_count": null,
   "id": "3f812e30-3f6f-4120-a828-db01304493e6",
   "metadata": {},
   "outputs": [],
   "source": [
    "# 17)\tCount the number of universities with a quality_of_faculty score between 5 and 10.\n",
    "with engine.begin() as conn:\n",
    "    df = pd.read_sql_query(sa.text(\"SELECT quality_of_faculty, COUNT(institution) AS count_of_universities FROM WorldUniversity WHERE quality_of_faculty BETWEEN 5 AND 10 GROUP BY quality_of_faculty;\"), conn)\n",
    "                                     \n",
    "print(df)"
   ]
  },
  {
   "cell_type": "code",
   "execution_count": null,
   "id": "d0b7be94-c89c-4459-b655-78bbd59b23df",
   "metadata": {},
   "outputs": [],
   "source": [
    "# 18)\tCalculate the average score for universities in the United Kingdom in 2014.\n",
    "with engine.begin() as conn:\n",
    "    df = pd.read_sql_query(sa.text(\"SELECT institution,country, AVG(score) AS Avg_score FROM WorldUniversity WHERE country = 'United Kingdom' AND year = 2014 GROUP BY institution, country;\"), conn)\n",
    "                                     \n",
    "print(df)"
   ]
  },
  {
   "cell_type": "code",
   "execution_count": null,
   "id": "89be8f1d-eca9-4155-b794-65c5ad358468",
   "metadata": {},
   "outputs": [],
   "source": [
    "# 19)\tFind universities with a national_rank between 1 and 3 in 2012.\n",
    "with engine.begin() as conn:\n",
    "    df = pd.read_sql_query(sa.text(\"SELECT institution, national_rank FROM WorldUniversity WHERE national_rank BETWEEN 1 AND 3;\"), conn)\n",
    "                                     \n",
    "print(df)"
   ]
  },
  {
   "cell_type": "code",
   "execution_count": null,
   "id": "37789d00-8fcd-4a0f-a8c9-449b3090b98f",
   "metadata": {},
   "outputs": [],
   "source": [
    "# 20)\tList universities with a citations rank less than 10.\n",
    "with engine.begin() as conn:\n",
    "    df = pd.read_sql_query(sa.text(\"SELECT institution, citations FROM WorldUniversity WHERE citations < 10;\"), conn)\n",
    "                                     \n",
    "print(df)"
   ]
  },
  {
   "cell_type": "code",
   "execution_count": null,
   "id": "6953501e-7cf4-43f2-a984-1c043e80cd49",
   "metadata": {},
   "outputs": [],
   "source": [
    "# 21)\tRetrieve the university with the highest alumni_employment in 2013.\n",
    "with engine.begin() as conn:\n",
    "    df = pd.read_sql_query(sa.text(\"SELECT institution, alumni_employment FROM WorldUniversity WHERE alumni_employment = (SELECT MAX(alumni_employment) FROM WorldUniversity WHERE year = 2013);\"), conn)\n",
    "                                     \n",
    "print(df)"
   ]
  },
  {
   "cell_type": "code",
   "execution_count": null,
   "id": "1c1066ff-4d2f-463d-b535-bccc7d6b5fe8",
   "metadata": {},
   "outputs": [],
   "source": [
    "# 22)\tFind the top 5 universities with the highest publications in 2012.\n",
    "with engine.begin() as conn:\n",
    "    df = pd.read_sql_query(sa.text(\"SELECT institution, publications FROM WorldUniversity WHERE publications = (SELECT MAX(publications) FROM WorldUniversity WHERE year = 2012);\"), conn)\n",
    "                                     \n",
    "print(df)"
   ]
  },
  {
   "cell_type": "code",
   "execution_count": null,
   "id": "367d6fe8-e593-43b6-b2af-d7726ba635a4",
   "metadata": {},
   "outputs": [],
   "source": [
    "# 23)\tCount the number of universities in each year.\n",
    "with engine.begin() as conn:\n",
    "    df = pd.read_sql_query(sa.text(\"SELECT year, COUNT(institution) AS COUNT FROM WorldUniversity WHERE year IN (2012,2013,2014,2015) GROUP BY year ORDER BY year;\"), conn)\n",
    "                                     \n",
    "print(df)"
   ]
  },
  {
   "cell_type": "code",
   "execution_count": null,
   "id": "77d51d45-bb36-48af-92a4-02cd8ac4361c",
   "metadata": {},
   "outputs": [],
   "source": [
    "# 24)\tCalculate the average alumni_employment score for universities in the USA.\n",
    "with engine.begin() as conn:\n",
    "    df = pd.read_sql_query(sa.text(\"SELECT institution, AVG(alumni_employment) AS avg_alumni_empl FROM WorldUniversity WHERE country = 'USA' GROUP BY institution;\"), conn)\n",
    "                                     \n",
    "print(df)"
   ]
  },
  {
   "cell_type": "code",
   "execution_count": null,
   "id": "7d04e88a-cbc6-4ca2-8e4c-c866b9049ec7",
   "metadata": {},
   "outputs": [],
   "source": [
    "# 25)\tRetrieve universities with a broad_impact score greater than 70.\n",
    "with engine.begin() as conn:\n",
    "    df = pd.read_sql_query(sa.text(\"SELECT institution, broad_impact FROM WorldUniversity WHERE broad_impact > 70;\"), conn)\n",
    "                                     \n",
    "print(df)"
   ]
  },
  {
   "cell_type": "code",
   "execution_count": null,
   "id": "793638f8-31be-48a8-8aa8-a6a23ce47a5f",
   "metadata": {},
   "outputs": [],
   "source": [
    "# 26)\tList the top 10 universities with the highest influence in 2014.\n",
    "with engine.begin() as conn:\n",
    "    df = pd.read_sql_query(sa.text(\"SELECT TOP 10 institution, influence FROM WorldUniversity WHERE year = 2014 ORDER BY influence DESC;\"), conn)\n",
    "                                     \n",
    "print(df)"
   ]
  },
  {
   "cell_type": "code",
   "execution_count": null,
   "id": "1381e8eb-2dbd-49f3-af4f-ecb0d2dd40a9",
   "metadata": {},
   "outputs": [],
   "source": [
    "# 27)\tFind universities with a patents rank equal to 1.\n",
    "with engine.begin() as conn:\n",
    "    df = pd.read_sql_query(sa.text(\"SELECT institution,patents FROM (SELECT institution, patents, Rank() OVER (ORDER BY patents DESC) AS patents_rank FROM WorldUniversity) AS ranked_data WHERE patents_rank = 1;\"), conn)\n",
    "                                     \n",
    "print(df)"
   ]
  },
  {
   "cell_type": "code",
   "execution_count": null,
   "id": "5facc9fd-aa68-472b-90a8-8e67ff6ec64e",
   "metadata": {},
   "outputs": [],
   "source": [
    "# 28)\tCount the number of universities with a broad_impact between 20 and 30.\n",
    "with engine.begin() as conn:\n",
    "    df = pd.read_sql_query(sa.text(\"SELECT COUNT(institution) AS count, broad_impact FROM WorldUniversity WHERE broad_impact BETWEEN 20 AND 30 GROUP BY broad_impact;\"), conn)\n",
    "                                     \n",
    "print(df)"
   ]
  },
  {
   "cell_type": "code",
   "execution_count": null,
   "id": "fda4f617-6b90-485d-beec-7daec7692c63",
   "metadata": {},
   "outputs": [],
   "source": [
    "# 29)\tCalculate the average quality_of_faculty score for universities in the United Kingdom.\n",
    "with engine.begin() as conn:\n",
    "    df = pd.read_sql_query(sa.text(\"SELECT institution, AVG(quality_of_faculty) AS avg_count FROM WorldUniversity WHERE country =  'United Kingdom' GROUP BY institution;\"), conn)\n",
    "                                     \n",
    "print(df)"
   ]
  },
  {
   "cell_type": "code",
   "execution_count": null,
   "id": "95eb4c28-ccd4-4f0b-a02b-1198bbfd30ed",
   "metadata": {},
   "outputs": [],
   "source": [
    "# 30)\tFind universities with an influence rank less than 5.\n",
    "with engine.begin() as conn:\n",
    "    df = pd.read_sql_query(sa.text(\"SELECT institution, influence_rank, influence FROM (SELECT institution, influence, DENSE_RANK() OVER (ORDER BY influence DESC) AS influence_rank FROM WorldUniversity) AS influence_data WHERE influence_rank < 5;\"), conn)\n",
    "                                     \n",
    "print(df)"
   ]
  },
  {
   "cell_type": "code",
   "execution_count": null,
   "id": "1ea7d494-49fb-46e4-ae65-1193e3254536",
   "metadata": {},
   "outputs": [],
   "source": [
    "# 31)\tRetrieve universities with a score greater than 75 and a national_rank less than or equal to 10 in 2013.\n",
    "with engine.begin() as conn:\n",
    "    df = pd.read_sql_query(sa.text(\"SELECT institution, score, national_rank FROM WorldUniversity WHERE score < 75 AND national_rank <= 10 AND year = 2013 ORDER BY national_rank;\"), conn)\n",
    "                                     \n",
    "print(df)"
   ]
  },
  {
   "cell_type": "code",
   "execution_count": null,
   "id": "20f1ad1e-5d8f-4847-bdbf-0b46d2714dff",
   "metadata": {},
   "outputs": [],
   "source": [
    "# 32)\tList the top 5 universities with the highest patents in 2014.\n",
    "conn = engine.connect() \n",
    "df = pd.read_sql_query(sa.text(\"SELECT TOP 5 institution, patents FROM WorldUniversity WHERE year = 2014 ORDER BY patents DESC;\"), conn)\n",
    "                                     \n",
    "print(df)"
   ]
  },
  {
   "cell_type": "code",
   "execution_count": null,
   "id": "7f9cdee3-85f7-42b8-816a-332b2b7cc812",
   "metadata": {},
   "outputs": [],
   "source": [
    "# 33)\tCount the number of universities with an alumni_employment score greater than 50.\n",
    "conn = engine.connect() \n",
    "df = pd.read_sql_query(sa.text(\"SELECT COUNT(institution) FROM WorldUniversity WHERE alumni_employment > 50;\"), conn)\n",
    "conn.close()\n",
    "df"
   ]
  },
  {
   "cell_type": "code",
   "execution_count": null,
   "id": "b5f8d466-2f30-4cd1-8875-cd40e9d99d5e",
   "metadata": {},
   "outputs": [],
   "source": [
    "# 34)\tCalculate the average quality_of_education score for universities in Japan.\n",
    "conn = engine.connect() \n",
    "df = pd.read_sql_query(sa.text(\"SELECT institution, AVG(quality_of_education) AS avg_quality_of_education FROM WorldUniversity WHERE country = 'Japan' GROUP BY institution;\"), conn)\n",
    "conn.close()\n",
    "df"
   ]
  },
  {
   "cell_type": "code",
   "execution_count": null,
   "id": "40863de6-d0b7-48e6-91bb-65da298954da",
   "metadata": {},
   "outputs": [],
   "source": [
    "# 35)\tFind universities with a quality_of_education rank equal to 1 in 2014.\n",
    "conn = engine.connect() \n",
    "df = pd.read_sql_query(sa.text(\"SELECT institution, quality_of_education FROM (SELECT institution, quality_of_education, RANK() OVER (ORDER BY quality_of_education DESC) AS quality_of_education_rank FROM WorldUniversity WHERE year = 2014) AS quali_edu_data WHERE quality_of_education_rank =1;\"), conn)\n",
    "conn.close()\n",
    "df"
   ]
  },
  {
   "cell_type": "code",
   "execution_count": null,
   "id": "86652d17-6cdd-4d1f-ae82-cbd69ce2c30b",
   "metadata": {},
   "outputs": [],
   "source": [
    "# 36)\tRetrieve universities with a score greater than 80 and an alumni_employment rank less than 5.\n",
    "conn = engine.connect()\n",
    "df = pd.read_sql_query(sa.text(\"SELECT institution, alumni_employment_rank, alumni_employment, score FROM ( SELECT institution, DENSE_RANK() OVER (ORDER BY alumni_employment DESC) AS alumni_employment_rank, score, alumni_employment FROM WorldUniversity WHERE score > 80) AS alumni_emplo_data WHERE alumni_employment_rank < 5;\"), conn)\n",
    "conn.close()\n",
    "df"
   ]
  },
  {
   "cell_type": "code",
   "execution_count": null,
   "id": "49bdbfb1-d00a-4901-8bfd-b4c7ac20b322",
   "metadata": {},
   "outputs": [],
   "source": [
    "# 37)\tList the top 10 universities with the highest publications in 2013.\n",
    "conn = engine.connect()\n",
    "df = pd.read_sql_query(sa.text(\"SELECT TOP 10 institution, publications FROM WorldUniversity WHERE year = 2013 ORDER BY publications DESC;\"), conn)\n",
    "conn.close()\n",
    "df"
   ]
  },
  {
   "cell_type": "code",
   "execution_count": null,
   "id": "7b076e26-0b7c-40d2-a94f-ce852d66b226",
   "metadata": {},
   "outputs": [],
   "source": [
    "# 38)\tCount the number of universities with a broad_impact score between 40 and 50.\n",
    "conn = engine.connect()\n",
    "df = pd.read_sql_query(sa.text(\"SELECT broad_impact, COUNT(distinct institution) AS COUNT FROM WorldUniversity WHERE broad_impact BETWEEN 40 AND 50 GROUP BY broad_impact;\"), conn)\n",
    "conn.close()\n",
    "df"
   ]
  },
  {
   "cell_type": "code",
   "execution_count": null,
   "id": "fdc18638-243e-4684-b65f-256309931fdf",
   "metadata": {},
   "outputs": [],
   "source": [
    "# 39)\tCalculate the average score for universities in Australia.\n",
    "conn = engine.connect()\n",
    "df = pd.read_sql_query(sa.text(\"SELECT institution, AVG(score)AS ave_score FROM WorldUniversity WHERE country = 'Australia' GROUP BY institution;\"), conn)\n",
    "conn.close()\n",
    "df\n"
   ]
  },
  {
   "cell_type": "code",
   "execution_count": null,
   "id": "33b3e09d-360b-4a85-a504-bf95bf83b967",
   "metadata": {},
   "outputs": [],
   "source": [
    "# 40)\tFind universities with an influence rank equal to 1 in 2012.\n",
    "conn = engine.connect()\n",
    "df = pd.read_sql_query(sa.text(\"SELECT influence_rank, institution, influence FROM(SELECT institution, RANK() OVER (ORDER BY influence DESC) AS influence_rank, influence FROM WorldUniversity WHERE year = 2012) AS influe_data WHERE influence_rank = 1;\"), conn)\n",
    "conn.close()\n",
    "df"
   ]
  },
  {
   "cell_type": "code",
   "execution_count": null,
   "id": "12736c0f-9286-40c8-9f45-2e9ba757eb76",
   "metadata": {},
   "outputs": [],
   "source": [
    "# 41)\tRetrieve universities with a quality_of_faculty score greater than 15.\n",
    "conn = engine.connect()\n",
    "df = pd.read_sql_query(sa.text(\"SELECT institution, quality_of_faculty FROM WorldUniversity WHERE quality_of_faculty > 15;\"), conn)\n",
    "conn.close()\n",
    "df"
   ]
  },
  {
   "cell_type": "code",
   "execution_count": null,
   "id": "5f480e63-9963-45e4-be87-7f62951f61bc",
   "metadata": {},
   "outputs": [],
   "source": [
    "# 42)\tList the top 5 universities with the highest alumni_employment in 2014.\n",
    "conn = engine.connect()\n",
    "df = pd.read_sql_query(sa.text(\"SELECT TOP 5 institution, alumni_employment FROM WorldUniversity WHERE year = 2014 ORDER BY alumni_employment DESC;\"), conn)\n",
    "conn.close()\n",
    "df"
   ]
  },
  {
   "cell_type": "code",
   "execution_count": 1,
   "id": "f8af17a7-e4a2-4f0a-8d6d-fd9e7397be89",
   "metadata": {},
   "outputs": [
    {
     "ename": "NameError",
     "evalue": "name 'engine' is not defined",
     "output_type": "error",
     "traceback": [
      "\u001b[1;31m---------------------------------------------------------------------------\u001b[0m",
      "\u001b[1;31mNameError\u001b[0m                                 Traceback (most recent call last)",
      "Cell \u001b[1;32mIn[1], line 2\u001b[0m\n\u001b[0;32m      1\u001b[0m \u001b[38;5;66;03m# 43)\tCount the number of universities with a national_rank less than 20 in 2013.\u001b[39;00m\n\u001b[1;32m----> 2\u001b[0m conn \u001b[38;5;241m=\u001b[39m engine\u001b[38;5;241m.\u001b[39mconnect()\n\u001b[0;32m      3\u001b[0m df \u001b[38;5;241m=\u001b[39m pd\u001b[38;5;241m.\u001b[39mread_sql_query(sa\u001b[38;5;241m.\u001b[39mtext(\u001b[38;5;124m\"\u001b[39m\u001b[38;5;124mSELECT institution, national_rank FROM WorldUniversity WHERE national_rank < 20 AND year = 2013;\u001b[39m\u001b[38;5;124m\"\u001b[39m), conn)\n\u001b[0;32m      4\u001b[0m conn\u001b[38;5;241m.\u001b[39mclose()\n",
      "\u001b[1;31mNameError\u001b[0m: name 'engine' is not defined"
     ]
    }
   ],
   "source": [
    "# 43)\tCount the number of universities with a national_rank less than 20 in 2013.\n",
    "conn = engine.connect()\n",
    "df = pd.read_sql_query(sa.text(\"SELECT institution, national_rank FROM WorldUniversity WHERE national_rank < 20 AND year = 2013;\"), conn)\n",
    "conn.close()\n",
    "df"
   ]
  },
  {
   "cell_type": "code",
   "execution_count": null,
   "id": "b2c38a2f-c151-4824-8260-50394511ecc6",
   "metadata": {},
   "outputs": [],
   "source": [
    "# 44)\tCalculate the average citations score for universities in Germany.\n",
    "conn = engine.connect()\n",
    "df = pd.read_sql_query(sa.text(\"SELECT institution, AVG(citations) AS avg_citations FROM WorldUniversity WHERE country = 'Germany' GROUP BY institution;\"), conn)\n",
    "conn.close()\n",
    "df"
   ]
  },
  {
   "cell_type": "code",
   "execution_count": null,
   "id": "3913aec7-f368-4040-87f0-b23dce9682a8",
   "metadata": {},
   "outputs": [],
   "source": [
    "# 45)\tFind universities with a publications rank equal to 1.\n",
    "conn = engine.connect()\n",
    "df = pd.read_sql_query(sa.text(\"SELECT DISTINCT institution, publication_rank FROM (SELECT institution, RANK() OVER (ORDER BY publications) AS publication_rank FROM WorldUniversity) AS publication_data WHERE publication_rank = 1;\"), conn)\n",
    "conn.close()\n",
    "df"
   ]
  },
  {
   "cell_type": "code",
   "execution_count": null,
   "id": "c7b69baf-f804-42c4-9006-7c311b1912c1",
   "metadata": {},
   "outputs": [],
   "source": [
    "# 46)\tRetrieve universities with a broad_impact score greater than 60 and a national_rank less than or equal to 5.\n",
    "conn = engine.connect()\n",
    "df = pd.read_sql_query(sa.text(\"SELECT national_rank, institution, broad_impact FROM WorldUniversity WHERE national_rank <= 5 AND broad_impact > 60;\"), conn)\n",
    "conn.close()\n",
    "df"
   ]
  },
  {
   "cell_type": "code",
   "execution_count": null,
   "id": "e2103665-2aae-42c8-b125-d0784b6054a2",
   "metadata": {},
   "outputs": [],
   "source": [
    "# 47)\tList the top 10 universities with the highest quality_of_education in 2012.\n",
    "conn = engine.connect()\n",
    "df = pd.read_sql_query(sa.text(\"SELECT TOP 10 institution, quality_of_education FROM WorldUniversity WHERE year = 2012 ORDER BY quality_of_education DESC;\"), conn)\n",
    "conn.close()\n",
    "df"
   ]
  },
  {
   "cell_type": "code",
   "execution_count": null,
   "id": "9c903664-64e9-4748-b2bf-9b533d08d1c8",
   "metadata": {},
   "outputs": [],
   "source": [
    "# 48)\tCount the number of universities with a score greater than 90.\n",
    "conn = engine.connect()\n",
    "df = pd.read_sql_query(sa.text(\"SELECT COUNT(institution) count FROM WorldUniversity WHERE score > 90;\"), conn)\n",
    "conn.close()\n",
    "df"
   ]
  },
  {
   "cell_type": "code",
   "execution_count": null,
   "id": "2c03cbac-65c9-4d26-9360-4635994c9840",
   "metadata": {},
   "outputs": [],
   "source": [
    "# 49)\tCalculate the average influence score for universities in the United Kingdom.\n",
    "conn = engine.connect()\n",
    "df = pd.read_sql_query(sa.text(\"SELECT institution, AVG(influence) AS avg_influence FROM WorldUniversity WHERE country = 'United Kingdom' GROUP BY institution;\"), conn)\n",
    "conn.close()\n",
    "df"
   ]
  },
  {
   "cell_type": "code",
   "execution_count": null,
   "id": "768a88e4-8e18-4d87-974a-01fb0074f1f3",
   "metadata": {},
   "outputs": [],
   "source": [
    "# 50)\tFind universities with a quality_of_education rank less than or equal to 5 in 2014.\n",
    "conn = engine.connect()\n",
    "df = pd.read_sql_query(sa.text(\"SELECT quality_of_education_rank, institution, quality_of_education FROM (SELECT DENSE_RANK() OVER (ORDER BY quality_of_education) AS quality_of_education_rank, institution,quality_of_education FROM WorldUniversity WHERE year = 2014) AS quality_of_edu_data WHERE quality_of_education_rank <= 5;\"), conn)\n",
    "conn.close()\n",
    "df"
   ]
  },
  {
   "cell_type": "code",
   "execution_count": null,
   "id": "ec504e00-d5ea-4c24-ad55-fed694367db9",
   "metadata": {},
   "outputs": [],
   "source": [
    "# 1)\tWhat is the total number of records in the dataset?\n",
    "records = data.shape[0]\n",
    "print(records)"
   ]
  },
  {
   "cell_type": "code",
   "execution_count": null,
   "id": "fc7e8e45-8a2e-43df-a29f-a13bea0cd6be",
   "metadata": {},
   "outputs": [],
   "source": [
    "# 2)\tHow many columns are there in the dataset?\n",
    "column = data.shape[1]\n",
    "print(column)"
   ]
  },
  {
   "cell_type": "code",
   "execution_count": null,
   "id": "27e863b2-b4c5-422d-a955-4f8a967eaefb",
   "metadata": {},
   "outputs": [],
   "source": [
    "# 3)\tWhat is the datatype of the \"world_rank\" column?\n",
    "data['world_rank'].dtype"
   ]
  },
  {
   "cell_type": "code",
   "execution_count": null,
   "id": "86050184-49ed-4403-9940-a46c357427f3",
   "metadata": {},
   "outputs": [],
   "source": [
    "# 4)\tWhich country is represented the most in the dataset?\n",
    "most_country = data['country'].value_counts().idxmax()\n",
    "print(most_country)"
   ]
  },
  {
   "cell_type": "code",
   "execution_count": null,
   "id": "08830cf8-a53a-4343-a5f4-ace21dad8859",
   "metadata": {},
   "outputs": [],
   "source": [
    "# 5)\tWhat is the average \"quality_of_education\" across all institutions?\n",
    "avg = data['quality_of_education'].mean()\n",
    "print(avg)"
   ]
  },
  {
   "cell_type": "code",
   "execution_count": null,
   "id": "0a67dd31-eb09-4625-9355-58874fb70dcc",
   "metadata": {},
   "outputs": [],
   "source": [
    "# 6)\tFind the institution with the highest \"alumni_employment\" value.\n",
    "institute = data.loc[data['alumni_employment'].idxmax(), 'institution']\n",
    "print(institute)"
   ]
  },
  {
   "cell_type": "code",
   "execution_count": null,
   "id": "362a9d15-fbca-4750-bcd8-4157ac7c753b",
   "metadata": {},
   "outputs": [],
   "source": [
    "# 7)\tIn which year does the dataset end?\n",
    "year = data['year'].max()\n",
    "print(year)"
   ]
  },
  {
   "cell_type": "code",
   "execution_count": null,
   "id": "bb4f5f83-1c14-4ea8-a061-79c13982f576",
   "metadata": {},
   "outputs": [],
   "source": [
    "# 8)\tHow many unique countries are present in the dataset?\n",
    "uniq_country = data['country'].nunique()\n",
    "print(uniq_country)"
   ]
  },
  {
   "cell_type": "code",
   "execution_count": null,
   "id": "8f13a4e9-d583-43ba-a98c-4e856d0f69b1",
   "metadata": {},
   "outputs": [],
   "source": [
    "# 9)\tWhich institution has the highest \"score\" in the year 2012?\n",
    "high_score = data[data['year'] == 2012].loc[data['score'].idxmax(), 'institution']\n",
    "print(high_score)"
   ]
  },
  {
   "cell_type": "code",
   "execution_count": null,
   "id": "938fd225-923f-4c9e-80e9-637409786237",
   "metadata": {},
   "outputs": [],
   "source": [
    "# 10)\tWhat is the national rank of Harvard University in the year 2012?\n",
    "national_rank = data[data['year']==2012].loc[data['institution'] =='Harvard University', 'world_rank']\n",
    "print(national_rank)"
   ]
  },
  {
   "cell_type": "code",
   "execution_count": null,
   "id": "f7350b83-857f-4fc7-97f3-2fa0fcebb89b",
   "metadata": {},
   "outputs": [],
   "source": [
    "# 11)\tFind the average \"publications\" value for institutions in the United Kingdom.\n",
    "uk = data[data['country'] == 'United Kingdom']\n",
    "print(uk['publications'].mean())"
   ]
  },
  {
   "cell_type": "code",
   "execution_count": null,
   "id": "3d1dd633-0d90-4123-94f3-f01aee2c3736",
   "metadata": {},
   "outputs": [],
   "source": [
    "# 12)\tIdentify the institution with the highest \"influence\" in the year 2013.\n",
    "data_2013 = data[data['year'] == 2013]\n",
    "high_influ = data_2013[data_2013['influence'] == data_2013['influence'].max()]\n",
    "Answer = high_influ[['institution','influence']]\n",
    "Answer"
   ]
  },
  {
   "cell_type": "code",
   "execution_count": null,
   "id": "215c062e-2e80-4121-a619-dd49eb801579",
   "metadata": {},
   "outputs": [],
   "source": [
    "# 13)\tWhat is the minimum \"broad_impact\" value in the dataset?\n",
    "x = data['broad_impact'].idxmin()\n",
    "print(\"Minimum broad impact value in data:\",x)"
   ]
  },
  {
   "cell_type": "code",
   "execution_count": null,
   "id": "4487b475-5d52-4c25-a084-616d06b7fc26",
   "metadata": {},
   "outputs": [],
   "source": [
    "# 14)\tHow many institutions are from Japan in the year 2012?\n",
    "data_2012 = data[data['year'] == 2012]\n",
    "insti_japan = data_2012.loc[data_2012['country'] == 'Japan', 'institution']\n",
    "count_of_institution = insti_japan.value_counts().sum()\n",
    "print(count_of_institution)"
   ]
  },
  {
   "cell_type": "code",
   "execution_count": null,
   "id": "38e2c735-cb8d-48c7-b210-764b80ac9867",
   "metadata": {},
   "outputs": [],
   "source": [
    "# 15)\tWhat is the average \"patents\" value for institutions in the USA in the year 2013?\n",
    "dt_2013 = data[(data['year'] == 2013) & (data['country'] == 'USA')]\n",
    "print(dt_2013['patents'].mean())\n"
   ]
  },
  {
   "cell_type": "code",
   "execution_count": null,
   "id": "1e84734f-17db-4679-bf86-2b428f5c0b6a",
   "metadata": {},
   "outputs": [],
   "source": [
    "# 16)\tFind the top 5 institutions with the highest \"citations\" in the year 2015.\n",
    "top5_data = data[data['year'] == 2015].nlargest(5, 'citations')\n",
    "print(top5_data[['institution', 'citations']])\n"
   ]
  },
  {
   "cell_type": "code",
   "execution_count": null,
   "id": "bad0dfd5-537a-4d94-ab9d-edb7bc216dd0",
   "metadata": {},
   "outputs": [],
   "source": [
    "# 17)\tWhat is the median \"international_students\" percentage across all institutions?"
   ]
  },
  {
   "cell_type": "code",
   "execution_count": null,
   "id": "0686e845-a739-4f2d-a05b-4f8b8f7a6f3e",
   "metadata": {},
   "outputs": [],
   "source": [
    "# 18)\tIdentify the institution with the lowest \"income\" in the year 2014."
   ]
  },
  {
   "cell_type": "code",
   "execution_count": null,
   "id": "8175148e-403b-4bf4-b97f-cfeb17cc7f4e",
   "metadata": {},
   "outputs": [],
   "source": [
    "# 19)\tHow many missing values are there in the \"total_score\" column?\n",
    "data['score'].isnull().sum()"
   ]
  },
  {
   "cell_type": "code",
   "execution_count": null,
   "id": "f3fa38ff-0b66-4eec-af99-7c7a64da8544",
   "metadata": {},
   "outputs": [],
   "source": [
    "# 20)\tFind the top 3 countries with the most institutions in the dataset.\n",
    "top3_countries = data['country'].value_counts().nlargest(3)\n",
    "print(top3_countries)"
   ]
  },
  {
   "cell_type": "code",
   "execution_count": null,
   "id": "6720cbd6-d39c-4369-90d4-80e3c762c635",
   "metadata": {},
   "outputs": [],
   "source": [
    "# 21)\tCalculate the percentage of institutions with a \"research\" score greater than 70.\n",
    "df_70 = data[data['score'] > 70]\n",
    "institute_count = df_70['institution'].value_counts()\n",
    "total_count = df_70['institution'].value_counts().sum()\n",
    "percentage_of_institute = (institute_count/total_count)*100\n",
    "print(percentage_of_institute)"
   ]
  },
  {
   "cell_type": "code",
   "execution_count": null,
   "id": "1f8c9983-e5f3-4976-9e0a-3cfd3029e8f4",
   "metadata": {},
   "outputs": [],
   "source": [
    "# 22)\tWhat is the difference in \"teaching\" score between Harvard and Stanford University in 2015?\n",
    "\n",
    "# calculating teaching score using existing columns\n",
    "data['teaching_score'] = (data['quality_of_education'] + data['quality_of_faculty'] + data['alumni_employment']) / 3\n",
    "\n",
    "# data for year 2015\n",
    "data_2015 = data[data['year'] == 2015]\n",
    "\n",
    "# data is grouped by institution based on teaching score\n",
    "institute_teaching_score = data_2015.groupby('institution')['teaching_score'].mean().reset_index()\n",
    "institute_teaching_score\n",
    "\n",
    "# calculating teaching score for each institution\n",
    "Harvard_teaching_score = institute_teaching_score[institute_teaching_score['institution'] == 'Harvard University']['teaching_score'].values[0]\n",
    "stanford_teaching_score = institute_teaching_score[institute_teaching_score['institution'] == 'Stanford University']['teaching_score'].values[0]\n",
    "\n",
    "# calculating difference between institutions\n",
    "diff_teach_score = abs(Harvard_teaching_score - stanford_teaching_score)\n",
    "diff_teach_score"
   ]
  },
  {
   "cell_type": "code",
   "execution_count": null,
   "id": "8b76cd29-6922-4fa4-8ff9-190540d9bf8e",
   "metadata": {},
   "outputs": [],
   "source": [
    "# 23)\tHow many institutions have a \"world_rank\" between 50 and 100 in the year 2014?\n",
    "\n",
    "data_2014 = data[data['year'] == 2014]\n",
    "\n",
    "institutes = data_2014[(data_2014['world_rank'] >= 50) & (data_2014['world_rank'] <= 100)]\n",
    "ans = institutes[['institution','world_rank','year']]\n",
    "print(ans)"
   ]
  },
  {
   "cell_type": "code",
   "execution_count": null,
   "id": "02b38a16-3dbb-4abd-847f-d6ed0df01821",
   "metadata": {},
   "outputs": [],
   "source": [
    "# 24)\tFind the country with the highest average \"industry_income\" across all years."
   ]
  },
  {
   "cell_type": "code",
   "execution_count": null,
   "id": "047b5ed3-9201-44e2-b704-0fbf5e3b483a",
   "metadata": {},
   "outputs": [],
   "source": [
    "# 25)\tWhat is the standard deviation of \"research\" scores for institutions in the United States?\n",
    "\n",
    "data['research_score'] = (data['publications']*0.3) + (data['influence']*0.15) + (data['citations']*0.20) + (data['broad_impact']*0.15) + (data['patents']*0.20)\n",
    "data_usa = data[data['country'] == 'USA']\n",
    "sdev = data_usa['research_score'].std()\n",
    "print(sdev)"
   ]
  },
  {
   "cell_type": "code",
   "execution_count": null,
   "id": "f8bfb2e5-0a3b-477f-a84b-91318c393898",
   "metadata": {},
   "outputs": [],
   "source": [
    "# 26)\tIdentify the institution with the highest \"alumni_employment\" in the year 2015.\n",
    "\n",
    "data_2015 = data[(data['year'] == 2015) & (data['alumni_employment'] == data['alumni_employment'].max())]\n",
    "data_2015[['institution','alumni_employment']].sort_values(by = 'institution', ascending = True)"
   ]
  },
  {
   "cell_type": "code",
   "execution_count": null,
   "id": "69a0733b-db72-4275-ae25-6b1f4bbbc312",
   "metadata": {},
   "outputs": [],
   "source": [
    "# 27)\tCalculate the correlation between \"score\" and \"research\" across all years.\n",
    "\n",
    "correlation = data.groupby('year')[['score','research_score']].corr()\n",
    "print(correlation)\n"
   ]
  },
  {
   "cell_type": "code",
   "execution_count": null,
   "id": "a20b4577-2878-417f-bbf9-ab375cee4e3e",
   "metadata": {},
   "outputs": [],
   "source": [
    "# 28)\tHow many institutions have a \"broad_impact\" greater than 800 in the year 2014?\n",
    "data_2014 = data[data['year'] == 2014]\n",
    "high_broad_impact = data_2014[data_2014['broad_impact'] > 800]\n",
    "high_broad_impact[['institution','broad_impact']].sort_values(by = 'institution',ascending = True)"
   ]
  },
  {
   "cell_type": "code",
   "execution_count": null,
   "id": "911d27ee-ace5-4f03-966e-e47cadc760f6",
   "metadata": {},
   "outputs": [],
   "source": [
    "# 29)\tFind the average \"international_students\" percentage for institutions in Australia."
   ]
  },
  {
   "cell_type": "code",
   "execution_count": null,
   "id": "0e102f08-46ef-4078-a14d-6e9929c68076",
   "metadata": {},
   "outputs": [],
   "source": [
    "# 30)\tIdentify the institution with the highest \"total_score\" in the year 2015.\n",
    "\n",
    "# for this que. we have to calculate total score but we dont have column like total score.\n",
    "# We can calculate total_score by considering other columns score as total_score contributors\n",
    "\n",
    "data['total_score'] = (data['teaching_score']*0.30) + (data['research_score']*0.50) + (data['score']*0.20)\n",
    "\n",
    "data_2015 = data[(data['year'] == 2015) & (data['total_score'] == data['total_score'].max())] \n",
    "data_2015[['institution', 'total_score']]\n"
   ]
  },
  {
   "cell_type": "code",
   "execution_count": null,
   "id": "d7224a1a-4b4a-4f26-847e-0bb4c1eb66ac",
   "metadata": {},
   "outputs": [],
   "source": [
    "# 31)\tWhat is the percentage of missing values in the \"female_male_ratio\" column?"
   ]
  },
  {
   "cell_type": "code",
   "execution_count": null,
   "id": "b7f9c912-8615-4047-91d9-b3f45dddfd54",
   "metadata": {},
   "outputs": [],
   "source": [
    "# 32)\tHow many institutions have a \"score\" greater than 90 in the year 2013?\n",
    "\n",
    "df = data[(data['year'] == 2013) & (data['score'] > 90) ]\n",
    "count = df['institution'].value_counts().sum()\n",
    "\n",
    "print(count)"
   ]
  },
  {
   "cell_type": "code",
   "execution_count": null,
   "id": "ef50c93a-0d4c-4726-a8bb-15f16c1e79fd",
   "metadata": {},
   "outputs": [],
   "source": [
    "# 33)\tCalculate the average \"research\" score for institutions in the top 10 of \"total_score\" in 2015.\n",
    "\n",
    "data_2015 = data[data['year'] == 2015]           # data of year 2015\n",
    "data_2015\n",
    "data_top10 = data_2015.nlargest(10, 'total_score')          # top 10 total_score institutions in 2015\n",
    "avg_research_score = data_top10['research_score'].mean()    \n",
    "print(\"avg_research_score:\",avg_research_score)"
   ]
  },
  {
   "cell_type": "code",
   "execution_count": null,
   "id": "8014d3a4-b00f-489f-8cb2-33cc0366d9a0",
   "metadata": {},
   "outputs": [],
   "source": [
    "# 34)\tIdentify the institution with the lowest \"international_students\" percentage in the year 2012."
   ]
  },
  {
   "cell_type": "code",
   "execution_count": null,
   "id": "c2593ff1-e851-4d70-8388-adda556e1a06",
   "metadata": {},
   "outputs": [],
   "source": [
    "# 35)\tWhat is the range of \"score\" values in the dataset?\n",
    "score_range = data['score'].max() - data['score'].min()\n",
    "print(score_range)"
   ]
  },
  {
   "cell_type": "code",
   "execution_count": null,
   "id": "06060a94-dac9-451e-a2e2-5abef888f983",
   "metadata": {},
   "outputs": [],
   "source": [
    "# 36)\tHow many institutions have a \"national_rank\" of 1 in the year 2014?\n",
    "\n",
    "data_rank1 = data[(data['national_rank'] == 1) & (data['year'] == 2014)]\n",
    "count = data_rank1['institution'].value_counts().sum()\n",
    "print(count)"
   ]
  },
  {
   "cell_type": "code",
   "execution_count": null,
   "id": "8a660112-39f6-4c6f-bb60-4fdbcce2dcb2",
   "metadata": {},
   "outputs": [],
   "source": [
    "# 37)\tFind the country with the highest average \"research_score\" percentage.\n",
    "\n",
    "avg_research_score = data.groupby('country')['research_score'].mean()\n",
    "high_country = avg_research_score.idxmax()\n",
    "high_score = avg_research_score.max()\n",
    "print(f\"The highest average of research score is {high_score} of country {high_country}\")"
   ]
  },
  {
   "cell_type": "code",
   "execution_count": null,
   "id": "72842c5b-9ccf-4717-808d-436eada10b94",
   "metadata": {},
   "outputs": [],
   "source": [
    "# 38)\tCalculate the average \"teaching\" score for institutions in the top 5 of \"world_rank\" in 2015.\n",
    "\n",
    "df = data[(data['year'] == 2015) & (data['world_rank'] <= 5)]\n",
    "average = df['teaching_score'].mean()\n",
    "print(average)\n"
   ]
  },
  {
   "cell_type": "code",
   "execution_count": null,
   "id": "5228e879-2ed2-4466-aa36-385404a35cff",
   "metadata": {},
   "outputs": [],
   "source": [
    "# 39)\tIdentify the institution with the highest \"research\" score in the year 2014.\n",
    "data_2014 = data[data['year'] == 2014]\n",
    "high_score = data_2014.groupby('institution')['research_score'].max()\n",
    "high_institute = high_score.idxmax()\n",
    "high_score = high_score.max()\n",
    "print(f\"The highest research score is {high_score} of institution {high_institute}\")"
   ]
  },
  {
   "cell_type": "code",
   "execution_count": null,
   "id": "3cdc8b75-9326-4cb0-828d-d053b1e5e793",
   "metadata": {},
   "outputs": [],
   "source": [
    "# 40)\tHow many institutions have a \"world_rank\" greater than 200 in the year 2015?\n",
    "df = data[(data['year'] == 2015) & (data['world_rank'] > 200)]\n",
    "count = df.value_counts().sum()\n",
    "print(count)"
   ]
  },
  {
   "cell_type": "code",
   "execution_count": null,
   "id": "c258c882-8e15-4814-8c9a-b0dd38d889f0",
   "metadata": {},
   "outputs": [],
   "source": [
    "# 41)\tWhat is the mode of the \"country\" column in the dataset?\n",
    "mode = data['country'].mode()\n",
    "print(mode)"
   ]
  },
  {
   "cell_type": "code",
   "execution_count": null,
   "id": "a0b96cc5-7fcf-443d-8e05-c44f9ff37cc6",
   "metadata": {},
   "outputs": [],
   "source": [
    "# 42)\tIdentify the institution with the highest \"total_score\" in the year 2015.\n",
    "df = data[(data['year'] == 2015) & (data['total_score'] == data['total_score'].max())]\n",
    "df[['institution','total_score']]"
   ]
  },
  {
   "cell_type": "code",
   "execution_count": null,
   "id": "d39696f1-5690-4b67-b302-e68d98accb70",
   "metadata": {},
   "outputs": [],
   "source": [
    "# 43)\tCalculate the average \"citations\" score for institutions in the bottom 10 of \"world_rank\" in 2013.\n",
    "df = data[data['year'] == 2013]\n",
    "bottom10_rank = df.nlargest(10,'world_rank')\n",
    "avg_citations = bottom10_rank.groupby('institution')['citations'].mean()\n",
    "print(avg_citations)\n"
   ]
  },
  {
   "cell_type": "code",
   "execution_count": null,
   "id": "49eadbd2-e8dc-46ac-9ca3-4b53a9330ee5",
   "metadata": {},
   "outputs": [],
   "source": [
    "# 44)\tHow many institutions have a \"total_score\" greater than 80 in the year 2014?\n",
    "df = data[(data['year'] == 2014) & (data['total_score'] > 80)]\n",
    "count = df.value_counts().sum()\n",
    "print(count)"
   ]
  },
  {
   "cell_type": "code",
   "execution_count": null,
   "id": "01524a48-c1a7-46b4-8630-d323a67a60e9",
   "metadata": {},
   "outputs": [],
   "source": [
    "# 45)\tFind the country with the lowest average \"score\" across all years.\n",
    "avg_score = data.groupby('country')['score'].mean()\n",
    "small_avg_score = avg_score.nsmallest(1)\n",
    "print(small_avg_score)"
   ]
  },
  {
   "cell_type": "code",
   "execution_count": null,
   "id": "3f6fc0a9-1e0c-43f0-9410-1383e03dbd81",
   "metadata": {},
   "outputs": [],
   "source": [
    "# 46)\tCalculate the average \"patents\" percentage for institutions in the top 5 of \"alumni_employment\" in 2014.\n",
    "top_5 = data[data['year'] == 2014].nlargest(5,'alumni_employment')\n",
    "avg_patents = top_5['patents'].mean()\n",
    "print(avg_patents)"
   ]
  },
  {
   "cell_type": "code",
   "execution_count": null,
   "id": "fed5c823-b484-44c6-897f-288229c64cef",
   "metadata": {},
   "outputs": [],
   "source": [
    "# 47)\tIdentify the institution with the lowest \"teaching\" score in the year 2015.\n",
    "df = data[(data['year'] == 2015) & (data['teaching_score'] == data['teaching_score'].min())]\n",
    "df[['institution','teaching_score']]"
   ]
  },
  {
   "cell_type": "code",
   "execution_count": null,
   "id": "0b55110e-85bf-4872-b8bd-8fd5f5d0981d",
   "metadata": {},
   "outputs": [],
   "source": [
    "# 48)\tHow many missing values are there in the \"broad_impact\" column?\n",
    "data['broad_impact'].isnull().sum()               # during cleaning, we replace missing values with zero."
   ]
  },
  {
   "cell_type": "code",
   "execution_count": null,
   "id": "9b35cbb9-cb40-4ba4-82dc-6a6350db5cb2",
   "metadata": {},
   "outputs": [],
   "source": [
    "# 49)\tWhat is the highest \"influence\" score in the dataset?\n",
    "high_value = data['influence'].max()\n",
    "print(high_value)"
   ]
  },
  {
   "cell_type": "markdown",
   "id": "b4fa68c6-6034-4802-af59-8584102b44d2",
   "metadata": {},
   "source": [
    "Questions for Visualizations:-"
   ]
  },
  {
   "cell_type": "code",
   "execution_count": null,
   "id": "23f60219-8c22-447b-b743-201da98e1a3a",
   "metadata": {},
   "outputs": [],
   "source": [
    "pip install matplotlib"
   ]
  },
  {
   "cell_type": "code",
   "execution_count": null,
   "id": "538bbc8d-ed51-4b5d-b2b6-2dd3bca84850",
   "metadata": {},
   "outputs": [],
   "source": [
    "pip install --upgrade matplotlib\n"
   ]
  },
  {
   "cell_type": "code",
   "execution_count": null,
   "id": "aa684805-3a71-4152-b1db-ff4646b6436a",
   "metadata": {},
   "outputs": [],
   "source": [
    "pip install seaborn"
   ]
  },
  {
   "cell_type": "code",
   "execution_count": null,
   "id": "40a47eaf-1501-43c8-bc84-8407df245612",
   "metadata": {},
   "outputs": [],
   "source": [
    "# 1)\tHow can you use matplotlib to create a bar chart showing the top 10 universities by their scores in 2012?\n",
    "import matplotlib.pyplot as plt\n",
    "import seaborn as sns\n",
    "\n",
    "# Required data for question\n",
    "top10_universities = data[data['year'] == 2012].nlargest(10, 'score')\n",
    "\n",
    "# plotting graph\n",
    "plt.figure(figsize=(12,5))\n",
    "plt.barh(top10_universities['institution'], top10_universities['score'], color = 'green')\n",
    "plt.xlabel(\"Score\")\n",
    "plt.ylabel(\"University\")\n",
    "plt.title(\"Top 10 Universities by Score in 2012\")\n",
    "plt.show()"
   ]
  },
  {
   "cell_type": "code",
   "execution_count": null,
   "id": "a475a4de-9276-4198-8596-a882fb1071bb",
   "metadata": {},
   "outputs": [],
   "source": [
    "# 2)\tCreate a line plot using seaborn to visualize the trend of scores for the University of Tokyo from 2012 to 2014.\n",
    "\n",
    "data_tokyo = data[(data['institution'] == 'University of Tokyo') & (data['year'].between(2012,2014))]\n",
    "\n",
    "plt.figure(figsize=(12,5))\n",
    "sns.lineplot(x = 'year', y = 'score', data = data_tokyo, marker = 's', color = 'red')\n",
    "\n",
    "plt.xlabel(\"Year\")\n",
    "plt.ylabel(\"Score\")\n",
    "plt.title(\"Trend of Scores of University of Tokyo (2012-2014)\")\n",
    "plt.xticks(data_tokyo['year'])\n",
    "\n",
    "plt.show()"
   ]
  },
  {
   "cell_type": "code",
   "execution_count": null,
   "id": "c75e20b0-2a0b-4d28-a831-4fe8b42728fe",
   "metadata": {},
   "outputs": [],
   "source": [
    "pip install altair"
   ]
  },
  {
   "cell_type": "code",
   "execution_count": null,
   "id": "0a0e3cb3-015a-4ff2-b776-c222c45fa57d",
   "metadata": {},
   "outputs": [],
   "source": [
    "# 3)How can you use Altair to create a scatter plot comparing the quality of faculty and alumni employment for all universities in 2013?\n",
    "\n",
    "data_2013 = data[data['year']==2013]\n",
    "import altair as alt\n",
    "scatter_plot = alt.Chart(data_2013).mark_circle(size=60).encode(\n",
    "                x = alt.X('quality_of_faculty', title='Quality of Faculty'),\n",
    "                y = alt.Y('alumni_employment',title='Alumni Employment'),\n",
    "                tooltip = ['institution', 'quality_of_faculty', 'alumni_employment']\n",
    ").interactive()\n",
    "scatter_plot"
   ]
  },
  {
   "cell_type": "code",
   "execution_count": null,
   "id": "8277d3e6-de2f-4d63-a2c7-f793901627d7",
   "metadata": {},
   "outputs": [],
   "source": [
    "# 4)\tUsing matplotlib, create a horizontal bar chart to display the top 10 universities in terms of influence in 2014.\n",
    "\n",
    "top10_2014 = data[data['year'] == 2014].nlargest(10, 'influence')\n",
    "\n",
    "plt.figure(figsize=(12,6))\n",
    "plt.barh(top10_2014['institution'], top10_2014['influence'], color = 'blue')\n",
    "\n",
    "plt.xlabel(\"Influence\")\n",
    "plt.ylabel(\"University\")\n",
    "plt.title(\"Top 10 University's Influence 2014\")\n",
    "\n",
    "plt.show()"
   ]
  },
  {
   "cell_type": "code",
   "execution_count": null,
   "id": "3a1e98e3-082d-4589-87e6-eec6d6075b03",
   "metadata": {},
   "outputs": [],
   "source": [
    "# 5)\tHow can you use seaborn to create a boxplot for the distribution of scores among universities in 2012?\n",
    "\n",
    "data_2012 = data[data['year'] == 2012]\n",
    "\n",
    "plt.figure(figsize=(8,4))\n",
    "sns.boxplot(x = data_2012['score'], color = 'skyblue')\n",
    "plt.title(\"Distribution of Scores 2012\")\n",
    "plt.show()"
   ]
  },
  {
   "cell_type": "code",
   "execution_count": null,
   "id": "05316d98-e0f6-48c1-acd2-65b0bdab04d3",
   "metadata": {},
   "outputs": [],
   "source": [
    "\n",
    "# 6)Create a stacked area plot using Altair to represent the change in scores for the top 5 universities from 2012 to 2014.\n",
    "\n",
    "top5_universities = data[data['year'].between(2012,2014)].nlargest(5,'score')\n",
    "\n",
    "stacked_area = alt.Chart(top5_universities).mark_area().encode(\n",
    "                 x = 'year',\n",
    "                 y = 'score',\n",
    "                 color=\"institution\",\n",
    "                 tooltip= ['institution','year','score']\n",
    ").properties( title = \"Score Distribution of Top 5 Universities (2012-2014)\"\n",
    "            ).interactive()\n",
    "\n",
    "stacked_area"
   ]
  },
  {
   "cell_type": "code",
   "execution_count": null,
   "id": "dbbb620c-c759-4bb6-b485-fa0f5af1f70e",
   "metadata": {},
   "outputs": [],
   "source": [
    "# 7)How can you use matplotlib to create a pie chart illustrating the distribution of universities in the United States and other countries in 2013?\n",
    "\n",
    "data_2013 = data[data['year'] == 2013]\n",
    "\n",
    "country_counts = data_2013['country'].value_counts()\n",
    "# country_counts\n",
    "\n",
    "plt.figure(figsize=(10,6))\n",
    "plt.pie(country_counts, labels = country_counts.index, autopct='%1.1f%%')\n",
    "plt.title(\"Distribution of Institutions Across diff Countries\")\n",
    "\n",
    "plt.show()"
   ]
  },
  {
   "cell_type": "code",
   "execution_count": null,
   "id": "a83dc2c2-7364-409f-86d5-7e39e24f3e3e",
   "metadata": {},
   "outputs": [],
   "source": [
    "# 8)\tUsing seaborn, create a violin plot to show the distribution of alumni employment scores among universities in 2014.\n",
    "\n",
    "data_2014 = data[data['year'] == 2014]\n",
    "\n",
    "\n",
    "plt.figure(figsize=(8,4))\n",
    "sns.violinplot(y = data_2014['alumni_employment'], data = data_2014)\n",
    "\n",
    "plt.ylabel('Alumni_Employment_Score')\n",
    "plt.title('Distibution of Alumni Employment Score among Universities 2014')\n",
    "plt.grid(True)\n",
    "plt.show()"
   ]
  },
  {
   "cell_type": "code",
   "execution_count": null,
   "id": "7020b2c2-6d64-443f-bb7f-efa8b1f52919",
   "metadata": {},
   "outputs": [],
   "source": [
    "# 9)\tHow can you use Altair to create a bar chart for the top 10 universities with the highest scores in 2014?\n",
    "import altair as alt\n",
    "\n",
    "data_2014 = data[data['year'] == 2014]\n",
    "top10_universities = data_2014.nlargest(10, 'score')\n",
    "# top10_universities\n",
    "\n",
    "barchart = alt.Chart(top10_universities).mark_bar().encode(\n",
    "             x = alt.X('score',title = 'Score'),\n",
    "             y = alt.Y('institution', title = 'University'),\n",
    "             tooltip = ['institution','score']\n",
    ").properties(title = \"Top 10 Universities with Score 2014\",\n",
    "              width = 450, height = 300).interactive()\n",
    "\n",
    "barchart"
   ]
  },
  {
   "cell_type": "code",
   "execution_count": null,
   "id": "243271bb-9144-4ea6-b42f-aeb9adbda56a",
   "metadata": {},
   "outputs": [],
   "source": [
    "# 10)Create a scatter plot using matplotlib to visualize the correlation between the quality of education and\n",
    "   #  the quality of faculty for all universities in 2012.\n",
    "\n",
    "data_2012 = data[data['year'] == 2012]\n",
    "\n",
    "plt.figure(figsize=(10, 6))\n",
    "plt.scatter(data_2012['quality_of_education'], data_2012['quality_of_faculty'], color='blue')\n",
    "\n",
    "\n",
    "plt.xlabel(\"Quality of Education\")\n",
    "plt.ylabel(\"Quality of Faculty\")\n",
    "plt.title(\"Correlation Between Quality of Education and Quality of Faculty (2012)\")\n",
    "plt.grid(True)\n",
    "plt.show()"
   ]
  },
  {
   "cell_type": "code",
   "execution_count": null,
   "id": "d9ef7a02-6a8b-4302-80b2-7b4efaeecea7",
   "metadata": {},
   "outputs": [],
   "source": [
    "'''11)\tHow can you use seaborn to create a pair plot to visualize the relationships between the scores, influence, and citations for \n",
    "          the top 10 universities in 2013?'''\n",
    "top10_data_2013 = data[data['year'] == 2013].nlargest(10, 'score')\n",
    "# top10_data_2013\n",
    "\n",
    "columns = ['score','influence','citations']\n",
    "\n",
    "sns.pairplot(top10_data_2013[columns], diag_kind = 'kde')\n",
    "\n",
    "plt.suptitle(\"The Relationship(scores,influence,citations)for Top 10 Universities 2013\", y = 1.02)\n",
    "plt.show()"
   ]
  },
  {
   "cell_type": "code",
   "execution_count": null,
   "id": "4cbf0a1a-89dc-4de5-a900-043ec9f375d0",
   "metadata": {},
   "outputs": [],
   "source": [
    "# 12)\tUsing Altair, create a bar chart to compare the scores of universities in the United States and the United Kingdom in 2014.\n",
    "\n",
    "Us_Uk_2014 = data[(data['year'] == 2014) & ((data['country'] == 'USA') | (data['country'] == 'United Kingdom'))]\n",
    "# Us_Uk_2014\n",
    "\n",
    "barchart = alt.Chart(Us_Uk_2014).mark_bar().encode(\n",
    "           x = alt.X('institution', title = 'Unviersity'),\n",
    "           y = 'score',\n",
    "           tooltip = ['score', 'institution','country']\n",
    ").properties(title = \"Score of Universities from USA and UK 2014\",\n",
    "              height = 300,\n",
    "               width = 4000).interactive()\n",
    "\n",
    "barchart"
   ]
  },
  {
   "cell_type": "code",
   "execution_count": null,
   "id": "963d31cc-8182-4023-90ca-64a1eddfec4a",
   "metadata": {},
   "outputs": [],
   "source": [
    "\n",
    "# 13)How can you use matplotlib to create a stacked bar chart illustrating the distribution of universities in different countries in 2012?\n",
    "\n",
    "data_2012 = data[data['year'] == 2012]\n",
    "country_count = data_2012['country'].value_counts()\n",
    "\n",
    "country = country_count.index\n",
    "country_total = country_count.values\n",
    "\n",
    "plt.figure(figsize=(12,4))\n",
    "plt.bar(country, country_total, color = ['red', 'blue', 'orange', 'yellow', 'gray'])\n",
    "\n",
    "plt.xlabel('Country')\n",
    "plt.ylabel('Count of Universities')\n",
    "plt.xticks(rotation = 70)\n",
    "plt.title('Distribution of Universities in diff Countries 2012')\n",
    "\n",
    "plt.show()"
   ]
  },
  {
   "cell_type": "code",
   "execution_count": null,
   "id": "5d8b239e-7ae6-4096-a578-04a13d9e39bb",
   "metadata": {},
   "outputs": [],
   "source": [
    "# 14)\tCreate a heatmap using seaborn to visualize the correlation matrix of the numerical columns in the dataset.\n",
    "\n",
    "numeric_data = data.select_dtypes(include = ['int64','float64'])\n",
    "correlation = numeric_data.corr()\n",
    "\n",
    "plt.figure(figsize=(12,4))\n",
    "sns.heatmap(correlation, annot=True, cmap=\"coolwarm\", fmt=\".2f\", linewidths=0.5)\n",
    "\n",
    "plt.title('Correlation Matrix of Numerical Columns')\n",
    "\n",
    "plt.show()\n"
   ]
  },
  {
   "cell_type": "code",
   "execution_count": null,
   "id": "0b991aea-0696-4546-a865-f354ce979460",
   "metadata": {},
   "outputs": [],
   "source": [
    "# 15)\tHow can you use Altair to create a line chart showing the trend of scores for the top 5 universities in 2014?\n",
    "\n",
    "top5_2014 = data[data['year'] == 2014].nlargest(5, 'score')\n",
    "\n",
    "linechart = alt.Chart(top5_2014).mark_line(point=True).encode(\n",
    "            x = alt.X('institution', title = 'University'),\n",
    "            y = alt.Y('score', title = 'Score'),\n",
    "            tooltip = ['score','institution']\n",
    ").properties(title = \"Trend of Top 5 Universities Score 2014\",\n",
    "             width = 700,\n",
    "             height = 300).interactive()\n",
    "\n",
    "linechart"
   ]
  },
  {
   "cell_type": "code",
   "execution_count": null,
   "id": "03c0ba34-2405-492b-9c02-2d799ff72295",
   "metadata": {},
   "outputs": [],
   "source": [
    "# 16)\tUsing matplotlib, create a bar chart to show the average scores for universities in each country in 2013.\n",
    "\n",
    "data_2013 = data[data['year']==2013]\n",
    "avg_score = data_2013.groupby('country')['score'].mean().sort_values(ascending = True)\n",
    "\n",
    "country = avg_score.index\n",
    "country_avg = avg_score.values\n",
    "\n",
    "plt.figure(figsize=(12,4))\n",
    "plt.bar(country, country_avg, color = 'orange')\n",
    "\n",
    "plt.xlabel('Country')\n",
    "plt.ylabel('Avg of Universities')\n",
    "plt.xticks(rotation = 90)\n",
    "plt.title('Avg. University Scores by Country 2013')\n",
    "plt.grid(axis = 'y', linestyle = '--')\n",
    "plt.show()"
   ]
  },
  {
   "cell_type": "code",
   "execution_count": null,
   "id": "3be9b60c-41ef-438e-a5ce-8dc4767f31be",
   "metadata": {},
   "outputs": [],
   "source": [
    "# 17)How can you use seaborn to create a swarm plot to visualize the distribution of scores among universities in 2014?\n",
    "\n",
    "data_2014 = data[data['year']==2014]\n",
    "\n",
    "plt.figure(figsize=(12, 6))\n",
    "sns.swarmplot(y=data_2014['score'], color='blue')\n",
    "\n",
    "plt.ylabel(\"University Score\")\n",
    "plt.title(\"Distribution of Scores Among Universities (2014)\")\n",
    "plt.grid(True, linestyle='--')\n",
    "\n",
    "plt.show()"
   ]
  },
  {
   "cell_type": "code",
   "execution_count": null,
   "id": "01af0fe0-1f53-457e-b0a4-3219bd3b6707",
   "metadata": {},
   "outputs": [],
   "source": [
    "pip install squarify\n"
   ]
  },
  {
   "cell_type": "code",
   "execution_count": null,
   "id": "5b20016a-4b39-4861-93a2-2575ba9a47a2",
   "metadata": {},
   "outputs": [],
   "source": [
    "# 18)Create a treemap using Altair to represent the proportion of universities in each country in 2012.\n",
    "\n",
    "import squarify\n",
    "\n",
    "data_2012 = data[data['year'] == 2012]\n",
    "country_counts = data_2012['country'].value_counts().reset_index()\n",
    "\n",
    "plt.figure(figsize=(12, 6))\n",
    "squarify.plot(sizes=country_counts['count'], label=country_counts['country'], color=plt.cm.Paired.colors)\n",
    "plt.title(\"Treemap of Universities by Country (2012)\")\n",
    "\n",
    "plt.show()"
   ]
  },
  {
   "cell_type": "code",
   "execution_count": null,
   "id": "b0b8d592-bd00-47f7-88c0-961aa6a27613",
   "metadata": {},
   "outputs": [],
   "source": [
    "# 19)How can you use matplotlib to create a histogram showing the distribution of scores for all universities in 2014?\n",
    "\n",
    "data_2014 = data[data['year']==2014]\n",
    "\n",
    "plt.figure(figsize=(12, 6))\n",
    "plt.hist(data_2014['score'], bins=20)\n",
    "\n",
    "plt.xlabel(\"Score\")\n",
    "plt.ylabel(\"Number of Universities\")\n",
    "plt.title(\"Distribution of University Scores in 2014\")\n",
    "plt.grid(axis='y', linestyle='--')\n",
    "\n",
    "plt.show()"
   ]
  },
  {
   "cell_type": "code",
   "execution_count": null,
   "id": "7213c58f-5089-45a4-9c6e-10a388c98c8a",
   "metadata": {},
   "outputs": [],
   "source": [
    "# 20)\tUsing Altair, create a bar chart to compare the influence scores of universities in Canada and Australia in 2013.\n",
    "\n",
    "data_2013 = data[(data['year'] == 2013) & (data['country'].isin(['Canada', 'Australia']))]\n",
    "\n",
    "chart = alt.Chart(data_2013).mark_bar().encode(\n",
    "    x=alt.X('institution', title='University'),\n",
    "    y=alt.Y('influence', title='Influence Score'),\n",
    "    color=alt.Color('country:N', title='Country'),\n",
    "    tooltip=['institution', 'influence', 'country']\n",
    ").properties(\n",
    "    title=\"Comparison of Influence Scores for Universities in Canada and Australia (2013)\",\n",
    "    width=800,\n",
    "    height=400\n",
    ")\n",
    "\n",
    "chart.show()"
   ]
  },
  {
   "cell_type": "code",
   "execution_count": null,
   "id": "9db76ecc-0c09-4d69-a04b-1ac27457b01b",
   "metadata": {},
   "outputs": [],
   "source": []
  }
 ],
 "metadata": {
  "kernelspec": {
   "display_name": "base",
   "language": "python",
   "name": "python3"
  },
  "language_info": {
   "codemirror_mode": {
    "name": "ipython",
    "version": 3
   },
   "file_extension": ".py",
   "mimetype": "text/x-python",
   "name": "python",
   "nbconvert_exporter": "python",
   "pygments_lexer": "ipython3",
   "version": "3.12.7"
  }
 },
 "nbformat": 4,
 "nbformat_minor": 5
}
